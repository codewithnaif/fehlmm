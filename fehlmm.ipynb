{
 "cells": [
  {
   "cell_type": "markdown",
   "id": "668ab789-84bf-4430-acae-768ed153f55a",
   "metadata": {},
   "source": [
    "# Theory Questions"
   ]
  },
  {
   "cell_type": "markdown",
   "id": "0dd2b707-3db2-4da8-9650-c2a4fa68c5a2",
   "metadata": {},
   "source": [
    "#### The difference betweeen Interpreted vs Compiled Languages\n",
    "* Compiled: Translated into machine code before execution (e.g., C, C++) → Faster execution.\n",
    "* Interpreted: Executed line-by-line at runtime (e.g., Python, JavaScript) → Easier debugging.\n",
    "\n",
    "#### Exception Handling in Python\n",
    "It allows the program to deal with runtime errors gracefully without crashing using try, except, finally, and else.\n",
    "\n",
    "#### Purpose of finally Block\n",
    "The finally block always executes, regardless of whether an exception occurred or not, typically used to clean up resources like closing a file.\n",
    "\n",
    "#### Logging in Python\n",
    "A way to track events during execution using the logging module — helpful for debugging, monitoring, and troubleshooting.\n",
    "\n",
    "#### Significance of __del__ Method\n",
    "A destructor method that is called when an object is about to be destroyed — used for cleanup (e.g., closing database connections).\n",
    "\n",
    "#### the difference between import vs from ... import\n",
    "    import module: Imports the whole module.\n",
    "    from module import function: Imports only specific functions/classes from a module.\n",
    "\n",
    "#### Handling Multiple Exceptions\n",
    "try:\n",
    "    # code\n",
    "except (TypeError, ValueError) as e:\n",
    "    print(e)\n",
    "\n",
    "Or handle differently:\n",
    "\n",
    "try:\n",
    "    # code\n",
    "except TypeError:\n",
    "    pass\n",
    "except ValueError:\n",
    "    pass\n",
    "\n",
    "#### Purpose of with Statement in File Handling\n",
    "Automatically manages file opening and closing, even if exceptions occur.\n",
    "with open(\"file.txt\") as f:\n",
    "    data = f.read()\n",
    "\n",
    "#### Multithreading vs Multiprocessing\n",
    "    Multithreading: Multiple threads share the same memory space (good for I/O-bound tasks).\n",
    "    Multiprocessing: Multiple processes with separate memory (better for CPU-bound tasks).\n",
    "\n",
    "#### Advantages of Using Logging\n",
    "    Tracks events\n",
    "    Easier debugging\n",
    "    Provides different levels (info, warning, error, etc.)\n",
    "    Stores logs in files\n",
    "\n",
    "#### Memory Management in Python\n",
    "Automatic memory management using reference counting and garbage collection.\n",
    "\n",
    "#### Steps in Exception Handling\n",
    "    Use try to wrap code\n",
    "    Catch errors with except\n",
    "    Use else if no error occurs\n",
    "    Use finally to clean up\n",
    "\n",
    "#### Why Memory Management is Important\n",
    "It avoids memory leaks and keeps applications efficient and stable.\n",
    "\n",
    "#### Role of try and except\n",
    "try: Contains code that might raise an exception.\n",
    "except: Handles the exception, preventing crashes.\n",
    "\n",
    "#### Python's Garbage Collection\n",
    "Uses reference counting and a cyclic garbage collector to free unused memory automatically.\n",
    "\n",
    "#### Purpose of else in Exception Handling\n",
    "Executes code only if no exception was raised in the try block.\n",
    "\n",
    "#### Common Logging Levels\n",
    "    DEBUG\n",
    "    INFO\n",
    "    WARNING\n",
    "    ERROR\n",
    "    CRITICAL\n",
    "\n",
    "#### os.fork() vs multiprocessing\n",
    "    os.fork(): Unix-specific, creates child processes at OS level.\n",
    "    multiprocessing: Cross-platform, higher-level abstraction using Process.\n",
    "\n",
    "#### Importance of Closing Files\n",
    "Frees system resources and prevents data corruption.\n",
    "\n",
    "#### file.read() vs file.readline()\n",
    "    read(): Reads the entire file.\n",
    "    readline(): Reads one line at a time.\n",
    "\n",
    "#### logging Module Use\n",
    "Provides a standard way to log messages with different severity levels.\n",
    "\n",
    "#### os Module in File Handling\n",
    "Used for file/directory operations like creating, renaming, deleting files.\n",
    "\n",
    "#### Memory Management Challenges\n",
    "    Circular references\n",
    "    Memory leaks in long-running apps\n",
    "    Manual memory control is limited\n",
    "\n",
    "#### Raising Exceptions Manually\n",
    "raise ValueError(\"Invalid input\")\n",
    "\n",
    "#### Why Use Multithreading?\n",
    "Improves performance in I/O-bound programs like web scraping, file I/O, or GUI responsiveness.\n"
   ]
  },
  {
   "cell_type": "code",
   "execution_count": null,
   "id": "70289052-8429-4be5-9e42-0b8ddd42d52a",
   "metadata": {},
   "outputs": [],
   "source": []
  },
  {
   "cell_type": "markdown",
   "id": "ef53f171-7301-4ca2-803f-3eb59089e63b",
   "metadata": {},
   "source": [
    "# Practical Questions"
   ]
  },
  {
   "cell_type": "code",
   "execution_count": null,
   "id": "7ef9e546-eed4-4550-a712-9f22b38c0e48",
   "metadata": {},
   "outputs": [],
   "source": []
  },
  {
   "cell_type": "code",
   "execution_count": 2,
   "id": "eb1eb6d1-d990-4f05-bcf0-648ad33c1f66",
   "metadata": {},
   "outputs": [],
   "source": [
    "# How can you open a file for writing in Python and write a string to it\n",
    "with open(\"example.txt\", \"w\") as file:\n",
    "    file.write(\"Hello, this is a test string!\")"
   ]
  },
  {
   "cell_type": "code",
   "execution_count": 3,
   "id": "e6546e6c-af68-49a9-a0e9-2b7f5c4f7d55",
   "metadata": {},
   "outputs": [
    {
     "name": "stdout",
     "output_type": "stream",
     "text": [
      "Hello, this is a test string!\n"
     ]
    }
   ],
   "source": [
    "# Write a Python program to read the contents of a file and print each line\n",
    "with open(\"example.txt\", \"r\") as file:\n",
    "    for line in file:\n",
    "        print(line.strip())"
   ]
  },
  {
   "cell_type": "code",
   "execution_count": 6,
   "id": "83de87d9-3864-46a7-ae9b-66f0e483a260",
   "metadata": {},
   "outputs": [
    {
     "name": "stdout",
     "output_type": "stream",
     "text": [
      "The file does not exist.\n"
     ]
    }
   ],
   "source": [
    "# How would you handle a case where the file doesn't exist while trying to open it for reading\n",
    "try:\n",
    "    with open(\"nonexistent.txt\", \"r\") as file:\n",
    "        print(file.read())\n",
    "except FileNotFoundError:\n",
    "    print(\"The file does not exist.\")\n"
   ]
  },
  {
   "cell_type": "code",
   "execution_count": null,
   "id": "3e4c7ce4-7dba-4cc1-aae2-eb28a68feb1c",
   "metadata": {},
   "outputs": [],
   "source": [
    "# Write a Python script that reads from one file and writes its content to another file\n",
    "with open(\"source.txt\", \"r\") as source, open(\"destination.txt\", \"w\") as dest:\n",
    "    for line in source:\n",
    "        dest.write(line)"
   ]
  },
  {
   "cell_type": "code",
   "execution_count": 7,
   "id": "2b424fc5-45a3-425d-a294-7b9a20431378",
   "metadata": {},
   "outputs": [
    {
     "name": "stdout",
     "output_type": "stream",
     "text": [
      "Cannot divide by zero.\n"
     ]
    }
   ],
   "source": [
    "# How would you catch and handle division by zero error in Python\n",
    "try:\n",
    "    result = 10 / 0\n",
    "except ZeroDivisionError:\n",
    "    print(\"Cannot divide by zero.\")\n"
   ]
  },
  {
   "cell_type": "code",
   "execution_count": 9,
   "id": "5c6411bf-ea52-44fd-8a18-c60019844066",
   "metadata": {},
   "outputs": [],
   "source": [
    "# Write a Python program that logs an error message to a log file when a division by zero exception occurs\n",
    "import logging\n",
    "\n",
    "logging.basicConfig(filename=\"errors.log\", level=logging.ERROR)\n",
    "\n",
    "try:\n",
    "    result = 10 / 0\n",
    "except ZeroDivisionError as e:\n",
    "    logging.error(\"Division by zero error: %s\", e)"
   ]
  },
  {
   "cell_type": "code",
   "execution_count": 10,
   "id": "fcdfbb3b-567e-4c8d-ab6f-4ce786c7eda1",
   "metadata": {},
   "outputs": [],
   "source": [
    "# How do you log information at different levels (INFO, ERROR, WARNING) in Python using the logging module.\n",
    "import logging\n",
    "\n",
    "logging.basicConfig(level=logging.DEBUG)\n",
    "\n",
    "logging.info(\"This is an info message.\")\n",
    "logging.warning(\"This is a warning message.\")\n",
    "logging.error(\"This is an error message.\")\n"
   ]
  },
  {
   "cell_type": "code",
   "execution_count": 11,
   "id": "41d34c0f-faf7-4924-8e0b-f85e81659a41",
   "metadata": {},
   "outputs": [
    {
     "name": "stdout",
     "output_type": "stream",
     "text": [
      "File not found.\n"
     ]
    }
   ],
   "source": [
    "# Write a program to handle a file opening error using exception handling\n",
    "try:\n",
    "    with open(\"missing.txt\", \"r\") as file:\n",
    "        data = file.read()\n",
    "except FileNotFoundError:\n",
    "    print(\"File not found.\")"
   ]
  },
  {
   "cell_type": "code",
   "execution_count": 14,
   "id": "e1710f58-7b14-4fa6-8472-4abd975f5dd6",
   "metadata": {},
   "outputs": [
    {
     "name": "stdout",
     "output_type": "stream",
     "text": [
      "['Hello, this is a test string!\\n', 'Appended line.']\n"
     ]
    }
   ],
   "source": [
    "# Write a program to handle a file opening error using exception handlingF\n",
    "with open(\"example.txt\", \"r\") as file:\n",
    "    lines = file.readlines()\n",
    "print(lines)\n"
   ]
  },
  {
   "cell_type": "code",
   "execution_count": 15,
   "id": "7ecdd7f1-ee79-4d0e-8d83-17c54a1986be",
   "metadata": {},
   "outputs": [],
   "source": [
    "# How can you append data to an existing file in Python\n",
    "with open(\"example.txt\", \"a\") as file:\n",
    "    file.write(\"\\nAppended line.\")\n"
   ]
  },
  {
   "cell_type": "code",
   "execution_count": 16,
   "id": "7b1618e6-1795-4d4b-977d-db1798c6980b",
   "metadata": {},
   "outputs": [
    {
     "name": "stdout",
     "output_type": "stream",
     "text": [
      "Key does not exist in the dictionary.\n"
     ]
    }
   ],
   "source": [
    "#Write a Python program that uses a try-except block to handle an error when attempting to access a\n",
    "# dictionary key that doesn't exist\n",
    "my_dict = {\"name\": \"Naif\"}\n",
    "\n",
    "try:\n",
    "    print(my_dict[\"age\"])\n",
    "except KeyError:\n",
    "    print(\"Key does not exist in the dictionary.\")"
   ]
  },
  {
   "cell_type": "code",
   "execution_count": 17,
   "id": "e90ad6d9-e2c2-47f1-930d-b36cf39181f0",
   "metadata": {},
   "outputs": [
    {
     "name": "stdout",
     "output_type": "stream",
     "text": [
      "Division by zero error.\n"
     ]
    }
   ],
   "source": [
    "# Write a program that demonstrates using multiple except blocks to handle different types of exceptions\n",
    "try:\n",
    "    x = 1 / 0\n",
    "    y = [1, 2, 3][5]\n",
    "except ZeroDivisionError:\n",
    "    print(\"Division by zero error.\")\n",
    "except IndexError:\n",
    "    print(\"Index out of range.\")\n"
   ]
  },
  {
   "cell_type": "code",
   "execution_count": 18,
   "id": "79d746e8-8eb8-4336-a1d1-3761c3cba915",
   "metadata": {},
   "outputs": [
    {
     "name": "stdout",
     "output_type": "stream",
     "text": [
      "Hello, this is a test string!\n",
      "Appended line.\n",
      "Appended line.\n"
     ]
    }
   ],
   "source": [
    "# How would you check if a file exists before attempting to read it in Python\n",
    "import os\n",
    "\n",
    "if os.path.exists(\"example.txt\"):\n",
    "    with open(\"example.txt\", \"r\") as file:\n",
    "        print(file.read())\n",
    "else:\n",
    "    print(\"File does not exist.\")"
   ]
  },
  {
   "cell_type": "code",
   "execution_count": 19,
   "id": "43b33382-c533-41b6-9149-ef0b38c57a8f",
   "metadata": {},
   "outputs": [],
   "source": [
    "# Write a program that uses the logging module to log both informational and error messages\n",
    "import logging\n",
    "\n",
    "logging.basicConfig(filename=\"app.log\", level=logging.INFO)\n",
    "\n",
    "logging.info(\"Program started.\")\n",
    "try:\n",
    "    result = 10 / 0\n",
    "except ZeroDivisionError:\n",
    "    logging.error(\"Tried to divide by zero.\")\n"
   ]
  },
  {
   "cell_type": "code",
   "execution_count": 20,
   "id": "dfd0805e-c1f6-4968-87bc-f0e15bfe8793",
   "metadata": {},
   "outputs": [
    {
     "name": "stdout",
     "output_type": "stream",
     "text": [
      "Hello, this is a test string!\n",
      "Appended line.\n",
      "Appended line.\n"
     ]
    }
   ],
   "source": [
    "# Write a Python program that prints the content of a file and handles the case when the file is empty\n",
    "with open(\"example.txt\", \"r\") as file:\n",
    "    content = file.read()\n",
    "    if content:\n",
    "        print(content)\n",
    "    else:\n",
    "        print(\"File is empty.\")\n"
   ]
  },
  {
   "cell_type": "code",
   "execution_count": null,
   "id": "620260e9-fea4-47bf-a298-65200633df7e",
   "metadata": {},
   "outputs": [],
   "source": [
    "# Demonstrate how to use memory profiling to check the memory usage of a small program\n",
    "# Install memory_profiler with: pip install memory-profiler\n",
    "from memory_profiler import profile\n",
    "\n",
    "@profile\n",
    "def my_function():\n",
    "    a = [i for i in range(10000)]\n",
    "    return a\n",
    "\n",
    "my_function()"
   ]
  },
  {
   "cell_type": "code",
   "execution_count": 2,
   "id": "18207912-3da3-4849-bc1c-29490c0ed68e",
   "metadata": {},
   "outputs": [
    {
     "ename": "SyntaxError",
     "evalue": "invalid decimal literal (3287861545.py, line 2)",
     "output_type": "error",
     "traceback": [
      "  \u001b[36mCell\u001b[39m\u001b[36m \u001b[39m\u001b[32mIn[2]\u001b[39m\u001b[32m, line 2\u001b[39m\n\u001b[31m    \u001b[39m\u001b[31mHow would you implement a basic logging setup that logs to a file with rotation after 1MB\u001b[39m\n                                                                                          ^\n\u001b[31mSyntaxError\u001b[39m\u001b[31m:\u001b[39m invalid decimal literal\n"
     ]
    }
   ],
   "source": [
    "F\n",
    "\u001f\n",
    "F\n",
    "\u001f\n",
    "F\n",
    "\u001f\n",
    "."
   ]
  },
  {
   "cell_type": "code",
   "execution_count": 3,
   "id": "685a4294-58cb-40fa-a5e7-34d08e7ca088",
   "metadata": {},
   "outputs": [],
   "source": [
    "# Write a Python program to create and write a list of numbers to a file, one number per line\n",
    "numbers = [1, 2, 3, 4, 5]\n",
    "\n",
    "with open(\"numbers.txt\", \"w\") as file:\n",
    "    for number in numbers:\n",
    "        file.write(f\"{number}\\n\")"
   ]
  },
  {
   "cell_type": "code",
   "execution_count": 4,
   "id": "22ec7a57-a112-4ddf-a731-e621280aab3f",
   "metadata": {},
   "outputs": [],
   "source": [
    "# How would you implement a basic logging setup that logs to a file with rotation after 1MB\n",
    "import logging\n",
    "from logging.handlers import RotatingFileHandler\n",
    "\n",
    "handler = RotatingFileHandler(\"rotating.log\", maxBytes=1024*1024, backupCount=3)\n",
    "logging.basicConfig(handlers=[handler], level=logging.INFO)\n",
    "\n",
    "logging.info(\"This is a rotating log example.\")\n"
   ]
  },
  {
   "cell_type": "code",
   "execution_count": 5,
   "id": "9f1bc090-044e-4773-b828-39d9509b811e",
   "metadata": {},
   "outputs": [
    {
     "name": "stdout",
     "output_type": "stream",
     "text": [
      "Index error caught.\n"
     ]
    }
   ],
   "source": [
    "# Write a program that handles both IndexError and KeyError using a try-except block\n",
    "try:\n",
    "    lst = [1, 2]\n",
    "    print(lst[5])\n",
    "    d = {\"a\": 1}\n",
    "    print(d[\"b\"])\n",
    "except IndexError:\n",
    "    print(\"Index error caught.\")\n",
    "except KeyError:\n",
    "    print(\"Key error caught.\")\n"
   ]
  },
  {
   "cell_type": "code",
   "execution_count": 6,
   "id": "125d7ffb-81b5-45e1-a281-400afa0a1f08",
   "metadata": {},
   "outputs": [
    {
     "name": "stdout",
     "output_type": "stream",
     "text": [
      "'hello' occurs 1 times.\n"
     ]
    }
   ],
   "source": [
    "# Write a Python program that reads a file and prints the number of occurrences of a specific word\n",
    "word_to_count = \"hello\"\n",
    "\n",
    "with open(\"example.txt\", \"r\") as file:\n",
    "    content = file.read()\n",
    "    count = content.lower().count(word_to_count.lower())\n",
    "    print(f\"'{word_to_count}' occurs {count} times.\")\n"
   ]
  },
  {
   "cell_type": "code",
   "execution_count": 8,
   "id": "097bf97b-9b54-4b15-bb8a-830456dc16ea",
   "metadata": {},
   "outputs": [
    {
     "name": "stdout",
     "output_type": "stream",
     "text": [
      "Hello, this is a test string!\n",
      "Appended line.\n",
      "Appended line.\n"
     ]
    }
   ],
   "source": [
    "# How can you check if a file is empty before attempting to read its contents\n",
    "import os\n",
    "\n",
    "if os.path.getsize(\"example.txt\") == 0:\n",
    "    print(\"File is empty.\")\n",
    "else:\n",
    "    with open(\"example.txt\", \"r\") as file:\n",
    "        print(file.read())"
   ]
  },
  {
   "cell_type": "code",
   "execution_count": 9,
   "id": "26777042-fd5b-4ffd-bd1b-805e95427d14",
   "metadata": {},
   "outputs": [],
   "source": [
    "# Write a Python program that writes to a log file when an error occurs during file handling\n",
    "import logging\n",
    "\n",
    "logging.basicConfig(filename=\"file_errors.log\", level=logging.ERROR)\n",
    "\n",
    "try:\n",
    "    with open(\"nofile.txt\", \"r\") as f:\n",
    "        print(f.read())\n",
    "except FileNotFoundError as e:\n",
    "    logging.error(\"File error occurred: %s\", e)\n"
   ]
  },
  {
   "cell_type": "code",
   "execution_count": null,
   "id": "abbd8f63-b910-4ba9-b620-889efddacacc",
   "metadata": {},
   "outputs": [],
   "source": []
  }
 ],
 "metadata": {
  "kernelspec": {
   "display_name": "Python 3 (ipykernel)",
   "language": "python",
   "name": "python3"
  },
  "language_info": {
   "codemirror_mode": {
    "name": "ipython",
    "version": 3
   },
   "file_extension": ".py",
   "mimetype": "text/x-python",
   "name": "python",
   "nbconvert_exporter": "python",
   "pygments_lexer": "ipython3",
   "version": "3.12.3"
  }
 },
 "nbformat": 4,
 "nbformat_minor": 5
}
